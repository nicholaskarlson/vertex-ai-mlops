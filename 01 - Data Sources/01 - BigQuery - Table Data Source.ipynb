{
 "cells": [
  {
   "cell_type": "markdown",
   "id": "c28f7fa2",
   "metadata": {},
   "source": [
    "![ga4](https://www.google-analytics.com/collect?v=2&tid=G-6VDTYWLKX6&cid=1&en=page_view&sid=1&dl=statmike%2Fvertex-ai-mlops%2F01+-+Data+Sources&dt=01+-+BigQuery+-+Table+Data+Source.ipynb)\n",
    "\n",
    "# 01 - BigQuery - Table Data Source\n",
    "Use BigQuery to load and prepare data for machine learning:\n",
    "\n",
    "**Video Walkthrough of this notebook:**\n",
    "\n",
    "Includes conversational walkthrough and more explanatory information than the notebook:\n",
    "<p align=\"center\" width=\"100%\"><center><a href=\"https://youtu.be/Z5whg20WvS8\" target=\"_blank\" rel=\"noopener noreferrer\"><img src=\"../architectures/thumbnails/playbutton/01.png\" width=\"40%\"></a></center></p>\n",
    "\n",
    "**Prerequisites:**\n",
    "-  [00 - Environment Setup](../00%20-%20Setup/00%20-%20Environment%20Setup.ipynb)\n",
    "\n",
    "**Resources:**\n",
    "-  [Python Client For Google BigQuery](https://googleapis.dev/python/bigquery/latest/index.html)\n",
    "-  [Download BigQuery Data to Pandas](https://cloud.google.com/bigquery/docs/bigquery-storage-python-pandas)\n",
    "-  [BigQuery Template Notebooks](https://github.com/GoogleCloudPlatform/bigquery-notebooks/tree/main/notebooks/official/template_notebooks)\n",
    "- Using BigQuery From Python, Notebooks in This Repository:\n",
    "    - [Tips/BigQuery - Python Client](../Tips/BigQuery%20-%20Python%20Client.ipynb)\n",
    "    - [03 - BigQuery ML (BQML)/Introduction to BigQuery ML (BQML)](../03%20-%20BigQuery%20ML%20(BQML)/Introduction%20to%20BigQuery%20ML%20(BQML).ipynb)\n",
    "    - [Applied Forecasting/1 - BigQuery Time Series Forecasting Data Review and Preparation](../Applied%20Forecasting/1%20-%20BigQuery%20Time%20Series%20Forecasting%20Data%20Review%20and%20Preparation.ipynb)\n",
    "\n",
    "**Conceptual Flow & Workflow**\n",
    "\n",
    "<p align=\"center\">\n",
    "  <img alt=\"Conceptual Flow\" src=\"../architectures/slides/01_arch.png\" width=\"45%\">\n",
    "&nbsp; &nbsp; &nbsp; &nbsp;\n",
    "  <img alt=\"Workflow\" src=\"../architectures/slides/01_console.png\" width=\"45%\">\n",
    "</p>"
   ]
  },
  {
   "cell_type": "markdown",
   "id": "5d0c695d-002d-48ca-9d52-839f95fdfee0",
   "metadata": {},
   "source": [
    "---\n",
    "## Source Data\n",
    "\n",
    "**Overview**\n",
    "\n",
    "This notebook imports source data for this project into Google BigQuery.  All the remaining notebooks utilize BigQuery as the source and leverage API's native to the machine learning approaches they feature.\n",
    "\n",
    "In the enviornment setup notebook (00), a BigQuery source table was exported to CSV format in a Cloud Storage Bucket. This notebook, `01 - BigQuery - Table Data Source`, starts the machine learning lifecycle by importing source data and preparing it for machine learning.\n",
    "\n",
    "All of these workflows utilize tabular data to fit a supervised learning model: predict a target variable by learning patterns in feature columns.  The type of supervised learning used in these projects is classification: models with a target variable that has multiple discrete classes.  \n",
    "\n",
    "**The Data**\n",
    "\n",
    "The source data is first exported to Google Cloud Storage in CSV format below.  The BigQuery source table is `bigquery-public-data.ml_datasets.ulb_fraud_detection`.  This is a table of credit card transactions that are classified as fradulant, `Class = 1`, or normal `Class = 0`.    \n",
    "- The data can be researched further at this [Kaggle link](https://www.kaggle.com/mlg-ulb/creditcardfraud).\n",
    "- Read mode about BigQuery public datasets [here](https://cloud.google.com/bigquery/public-data)\n",
    "\n",
    "**Description of the Data**\n",
    "\n",
    "This is a table of 284,807 credit card transactions classified as fradulant or normal in the column `Class`.  In order protect confidentiality, the original features have been transformed using [principle component analysis (PCA)](https://en.wikipedia.org/wiki/Principal_component_analysis) into 28 features named `V1, V2, ... V28` (float).  Two descriptive features are provided without transformation by PCA:\n",
    "- `Time` (integer) is the seconds elapsed between the transaction and the earliest transaction in the table\n",
    "- `Amount` (float) is the value of the transaction\n",
    ">**Quick Note on PCA**<p>PCA is an unsupervised learning technique: there is not a target variable.  PCA is commonlly used as a variable/feature reduction technique.  If you have 100 features then you could reduce it to a number p (say 10) projected features.  The choice of this number is a balance of how well it can explain the variance of the full feature space and reducing the number of features.  Each projected feature is orthogonal to each other feature, meaning there is no correlation between these new projected features.</p>\n",
    "\n",
    "**Preparation of the Data**\n",
    "\n",
    "This notebook adds two columns to the source data and stores it in a new table with suffix `_prepped`.  \n",
    "- `transaction_id` (string) a unique id for the row/transaction\n",
    "- `splits` (string) this divided the tranactions into sets for `TRAIN` (80%), `VALIDATE` (10%), and `TEST` (10%)"
   ]
  },
  {
   "cell_type": "markdown",
   "id": "a5046940",
   "metadata": {},
   "source": [
    "---\n",
    "## Setup"
   ]
  },
  {
   "cell_type": "markdown",
   "id": "a0ae60b2",
   "metadata": {},
   "source": [
    "inputs:"
   ]
  },
  {
   "cell_type": "code",
   "execution_count": 1,
   "id": "d6f0503a-e864-4170-ade9-0ebabd14efcd",
   "metadata": {},
   "outputs": [
    {
     "data": {
      "text/plain": [
       "'onboarding-host-5c79d5c5a45a40'"
      ]
     },
     "execution_count": 1,
     "metadata": {},
     "output_type": "execute_result"
    }
   ],
   "source": [
    "project = !gcloud config get-value project\n",
    "PROJECT_ID = project[0]\n",
    "PROJECT_ID"
   ]
  },
  {
   "cell_type": "code",
   "execution_count": 2,
   "id": "56a5bc43",
   "metadata": {},
   "outputs": [],
   "source": [
    "REGION = 'us-west1'\n",
    "EXPERIMENT = '01'\n",
    "SERIES = '01'\n",
    "\n",
    "# source data\n",
    "BQ_PROJECT = PROJECT_ID\n",
    "BQ_DATASET = 'fraud'\n",
    "BQ_TABLE = 'fraud'\n",
    "\n",
    "# Data source for this series of notebooks: Described above\n",
    "BQ_SOURCE = 'bigquery-public-data.ml_datasets.ulb_fraud_detection'"
   ]
  },
  {
   "cell_type": "markdown",
   "id": "e4a963be",
   "metadata": {},
   "source": [
    "packages:"
   ]
  },
  {
   "cell_type": "code",
   "execution_count": 3,
   "id": "8a37b83a",
   "metadata": {},
   "outputs": [],
   "source": [
    "from google.cloud import bigquery\n",
    "from google.cloud import storage"
   ]
  },
  {
   "cell_type": "markdown",
   "id": "e24cebb6",
   "metadata": {},
   "source": [
    "clients:"
   ]
  },
  {
   "cell_type": "code",
   "execution_count": 4,
   "id": "9e515410",
   "metadata": {},
   "outputs": [],
   "source": [
    "bq = bigquery.Client(project = PROJECT_ID)\n",
    "gcs = storage.Client(project = PROJECT_ID)"
   ]
  },
  {
   "cell_type": "markdown",
   "id": "a6601398",
   "metadata": {},
   "source": [
    "parameters:"
   ]
  },
  {
   "cell_type": "code",
   "execution_count": 5,
   "id": "1f1e2af3",
   "metadata": {},
   "outputs": [],
   "source": [
    "BUCKET = PROJECT_ID"
   ]
  },
  {
   "cell_type": "markdown",
   "id": "504c3a89-d98f-471c-ae54-3b9157651f0b",
   "metadata": {},
   "source": [
    "---\n",
    "## Store the Source Data in GCS Storage Bucket\n",
    "Check to see if the export exist and create if not:\n",
    "- export from bigquery table to GCS bucket as CSV\n",
    "    - the table is referenced in the `BQ_SOURCE` variable at the top of this notebook\n",
    "- [Exporting Table Data](https://cloud.google.com/bigquery/docs/exporting-data#python)\n",
    "- [BigQuery Python Client](https://cloud.google.com/python/docs/reference/bigquery/latest/google.cloud.bigquery.client.Client#google_cloud_bigquery_client_Client_extract_table)\n",
    "\n",
    "For more tips on interacting with GCS using the Python Client review the tips notebook [Python Client for GCS](../Tips/Python%20Client%20for%20GCS.ipynb)."
   ]
  },
  {
   "cell_type": "code",
   "execution_count": 6,
   "id": "6144857f-1ecc-4712-925b-4de69b6df0a1",
   "metadata": {},
   "outputs": [],
   "source": [
    "file = f\"{SERIES}/{EXPERIMENT}/data/{BQ_TABLE}.csv\""
   ]
  },
  {
   "cell_type": "code",
   "execution_count": 7,
   "id": "65714181-b946-4c5c-b990-6f7ac4f2ca2a",
   "metadata": {},
   "outputs": [
    {
     "name": "stdout",
     "output_type": "stream",
     "text": [
      "The file has already been created at: gs://onboarding-host-5c79d5c5a45a40/01/01/data/fraud.csv\n"
     ]
    }
   ],
   "source": [
    "bucketDef = gcs.bucket(BUCKET)\n",
    "if storage.Blob(bucket = bucketDef, name = file).exists(gcs):\n",
    "    print(f'The file has already been created at: gs://{bucketDef.name}/{file}')\n",
    "else:\n",
    "    source = bigquery.TableReference.from_string(BQ_SOURCE)\n",
    "    extract = bq.extract_table(source = source, destination_uris = [f'gs://{bucketDef.name}/{file}'])\n",
    "    print('Creating the export ...')\n",
    "    extract.result()\n",
    "    print(f'Exported the table to: gs://{bucketDef.name}/{file}')"
   ]
  },
  {
   "cell_type": "markdown",
   "id": "648c19f8-677e-4219-a0ff-bcfe1fd932a0",
   "metadata": {},
   "source": [
    "list files in the bucket:"
   ]
  },
  {
   "cell_type": "code",
   "execution_count": 8,
   "id": "ed784872-405b-4d64-a70b-4482529b5fc4",
   "metadata": {},
   "outputs": [
    {
     "data": {
      "text/plain": [
       "[<Blob: onboarding-host-5c79d5c5a45a40, 01/01/data/fraud.csv, 1683755005427471>]"
      ]
     },
     "execution_count": 8,
     "metadata": {},
     "output_type": "execute_result"
    }
   ],
   "source": [
    "list(bucketDef.list_blobs(prefix = f'{SERIES}/{EXPERIMENT}'))"
   ]
  },
  {
   "cell_type": "code",
   "execution_count": 9,
   "id": "f40c2ea7-0649-4073-88a4-3e47af62f0c5",
   "metadata": {},
   "outputs": [
    {
     "name": "stdout",
     "output_type": "stream",
     "text": [
      "Review the files in the console here:\n",
      "https://console.cloud.google.com/storage/browser/onboarding-host-5c79d5c5a45a40/01;tab=objects&project=onboarding-host-5c79d5c5a45a40\n"
     ]
    }
   ],
   "source": [
    "print(f'Review the files in the console here:\\nhttps://console.cloud.google.com/storage/browser/{PROJECT_ID}/{SERIES};tab=objects&project={PROJECT_ID}')"
   ]
  },
  {
   "cell_type": "markdown",
   "id": "7685eddc",
   "metadata": {},
   "source": [
    "---\n",
    "## Create BigQuery Dataset"
   ]
  },
  {
   "cell_type": "markdown",
   "id": "c77cab37",
   "metadata": {},
   "source": [
    "List BigQuery datasets in the project:"
   ]
  },
  {
   "cell_type": "code",
   "execution_count": 10,
   "id": "2b49b948-5fa8-4d4e-a7d3-b2adb19362c4",
   "metadata": {},
   "outputs": [
    {
     "name": "stdout",
     "output_type": "stream",
     "text": [
      "fraud\n"
     ]
    }
   ],
   "source": [
    "datasets = list(bq.list_datasets())\n",
    "for d in datasets:\n",
    "    print(d.dataset_id)"
   ]
  },
  {
   "cell_type": "markdown",
   "id": "3b0b3aca",
   "metadata": {},
   "source": [
    "Create the dataset if missing:"
   ]
  },
  {
   "cell_type": "code",
   "execution_count": 11,
   "id": "61001b78-418f-42a1-a4c4-d74a1f3aff9e",
   "metadata": {},
   "outputs": [],
   "source": [
    "ds = bigquery.Dataset(f\"{BQ_PROJECT}.{BQ_DATASET}\")\n",
    "ds.location = REGION\n",
    "ds.labels = {'experiment': f'{EXPERIMENT}'}\n",
    "ds = bq.create_dataset(dataset = ds, exists_ok = True)"
   ]
  },
  {
   "cell_type": "markdown",
   "id": "11a50638-515e-49d0-b479-25e92138ae96",
   "metadata": {},
   "source": [
    "List BigQuery datasets in the project:"
   ]
  },
  {
   "cell_type": "code",
   "execution_count": 12,
   "id": "b39f4471-38f4-4b97-8d9c-7ee3122dbee9",
   "metadata": {},
   "outputs": [
    {
     "name": "stdout",
     "output_type": "stream",
     "text": [
      "fraud\n"
     ]
    }
   ],
   "source": [
    "datasets = list(bq.list_datasets())\n",
    "for d in datasets:\n",
    "    print(d.dataset_id)"
   ]
  },
  {
   "cell_type": "markdown",
   "id": "34eeac68",
   "metadata": {},
   "source": [
    "---\n",
    "## Create BigQuery Table\n",
    "- import data from Cloud Storage Bucket\n",
    "- [Loading CSV data from Cloud Storage](https://cloud.google.com/bigquery/docs/loading-data-cloud-storage-csv)\n",
    "- [BigQuery Python Client](https://cloud.google.com/python/docs/reference/bigquery/latest/google.cloud.bigquery.client.Client#google_cloud_bigquery_client_Client_extract_table)"
   ]
  },
  {
   "cell_type": "code",
   "execution_count": 13,
   "id": "86063a1e",
   "metadata": {},
   "outputs": [
    {
     "name": "stdout",
     "output_type": "stream",
     "text": [
      "The table already exists: onboarding-host-5c79d5c5a45a40.fraud.fraud\n"
     ]
    }
   ],
   "source": [
    "from google.cloud.exceptions import NotFound\n",
    "try:\n",
    "    table = bq.get_table(f'{BQ_PROJECT}.{BQ_DATASET}.{BQ_TABLE}')\n",
    "    if table:\n",
    "        print(f'The table already exists: {BQ_PROJECT}.{BQ_DATASET}.{BQ_TABLE}')\n",
    "except NotFound as error:\n",
    "    print(f'Creating Table ...')\n",
    "    destination = bigquery.TableReference.from_string(f\"{BQ_PROJECT}.{BQ_DATASET}.{BQ_TABLE}\")\n",
    "    job_config = bigquery.LoadJobConfig(\n",
    "        write_disposition = 'WRITE_TRUNCATE',\n",
    "        source_format = bigquery.SourceFormat.CSV,\n",
    "        autodetect = True,\n",
    "        labels = {'experiment': f'{EXPERIMENT}'}\n",
    "    )\n",
    "    job = bq.load_table_from_uri(f\"gs://{bucketDef.name}/{file}\", destination, job_config = job_config)\n",
    "    job.result()\n",
    "    print(f'Finished creating table: {BQ_PROJECT}.{BQ_DATASET}.{BQ_TABLE}')"
   ]
  },
  {
   "cell_type": "markdown",
   "id": "44285e37-6ac7-478d-9709-dd11a068a4dc",
   "metadata": {},
   "source": [
    "### Retrieve and Review a Sample From The Table:\n",
    "> **Note:** The `LIMIT 5` statement does limit the number of rows returned by BigQuery to 5 but BigQuery still does a full table scan.  If you have a table larger than 1GB and want to limit the rows scanned for a quick review like then then replacing `LIMIT 5` with `TABLESAMPLE SYSTEM (1 PERCENT)` would be more efficient.  For tables under 1GB it will still return the full table.  More on [Table Sampling](https://cloud.google.com/bigquery/docs/table-sampling)"
   ]
  },
  {
   "cell_type": "code",
   "execution_count": 14,
   "id": "5c328e11-af8a-43bc-ac0e-61b6143d5d05",
   "metadata": {},
   "outputs": [
    {
     "name": "stdout",
     "output_type": "stream",
     "text": [
      "\u001b[33mWARNING: Ignoring invalid distribution -andas (/opt/conda/lib/python3.7/site-packages)\u001b[0m\u001b[33m\n",
      "\u001b[0m\u001b[33mWARNING: Ignoring invalid distribution -loudpickle (/opt/conda/lib/python3.7/site-packages)\u001b[0m\u001b[33m\n",
      "\u001b[0m\u001b[33mWARNING: Ignoring invalid distribution -oogle-cloud-aiplatform (/opt/conda/lib/python3.7/site-packages)\u001b[0m\u001b[33m\n",
      "\u001b[0m\u001b[33mWARNING: Ignoring invalid distribution -oogle-resumable-media (/opt/conda/lib/python3.7/site-packages)\u001b[0m\u001b[33m\n",
      "\u001b[0mRequirement already satisfied: pandas==1.2.4 in /opt/conda/lib/python3.7/site-packages (1.2.4)\n",
      "Requirement already satisfied: python-dateutil>=2.7.3 in /opt/conda/lib/python3.7/site-packages (from pandas==1.2.4) (2.8.2)\n",
      "Requirement already satisfied: pytz>=2017.3 in /opt/conda/lib/python3.7/site-packages (from pandas==1.2.4) (2023.3)\n",
      "Requirement already satisfied: numpy>=1.16.5 in /opt/conda/lib/python3.7/site-packages (from pandas==1.2.4) (1.21.6)\n",
      "Requirement already satisfied: six>=1.5 in /opt/conda/lib/python3.7/site-packages (from python-dateutil>=2.7.3->pandas==1.2.4) (1.16.0)\n",
      "\u001b[33mWARNING: Ignoring invalid distribution -andas (/opt/conda/lib/python3.7/site-packages)\u001b[0m\u001b[33m\n",
      "\u001b[0m\u001b[33mWARNING: Ignoring invalid distribution -loudpickle (/opt/conda/lib/python3.7/site-packages)\u001b[0m\u001b[33m\n",
      "\u001b[0m\u001b[33mWARNING: Ignoring invalid distribution -oogle-cloud-aiplatform (/opt/conda/lib/python3.7/site-packages)\u001b[0m\u001b[33m\n",
      "\u001b[0m\u001b[33mWARNING: Ignoring invalid distribution -oogle-resumable-media (/opt/conda/lib/python3.7/site-packages)\u001b[0m\u001b[33m\n",
      "\u001b[0m"
     ]
    }
   ],
   "source": [
    "!pip3 install pandas==1.2.4 --upgrade --user"
   ]
  },
  {
   "cell_type": "code",
   "execution_count": 15,
   "id": "fd647a45-c333-4f5a-888d-3e33183a70b6",
   "metadata": {},
   "outputs": [
    {
     "name": "stdout",
     "output_type": "stream",
     "text": [
      "\u001b[33mWARNING: Ignoring invalid distribution -andas (/opt/conda/lib/python3.7/site-packages)\u001b[0m\u001b[33m\n",
      "\u001b[0m\u001b[33mWARNING: Ignoring invalid distribution -loudpickle (/opt/conda/lib/python3.7/site-packages)\u001b[0m\u001b[33m\n",
      "\u001b[0m\u001b[33mWARNING: Ignoring invalid distribution -oogle-cloud-aiplatform (/opt/conda/lib/python3.7/site-packages)\u001b[0m\u001b[33m\n",
      "\u001b[0m\u001b[33mWARNING: Ignoring invalid distribution -oogle-resumable-media (/opt/conda/lib/python3.7/site-packages)\u001b[0m\u001b[33m\n",
      "\u001b[0mRequirement already satisfied: db-dtypes in /opt/conda/lib/python3.7/site-packages (1.1.1)\n",
      "Requirement already satisfied: packaging>=17.0 in /opt/conda/lib/python3.7/site-packages (from db-dtypes) (23.1)\n",
      "Requirement already satisfied: pandas>=0.24.2 in /opt/conda/lib/python3.7/site-packages (from db-dtypes) (1.2.4)\n",
      "Requirement already satisfied: pyarrow>=3.0.0 in /opt/conda/lib/python3.7/site-packages (from db-dtypes) (11.0.0)\n",
      "Requirement already satisfied: numpy>=1.16.6 in /opt/conda/lib/python3.7/site-packages (from db-dtypes) (1.21.6)\n",
      "Requirement already satisfied: python-dateutil>=2.7.3 in /opt/conda/lib/python3.7/site-packages (from pandas>=0.24.2->db-dtypes) (2.8.2)\n",
      "Requirement already satisfied: pytz>=2017.3 in /opt/conda/lib/python3.7/site-packages (from pandas>=0.24.2->db-dtypes) (2023.3)\n",
      "Requirement already satisfied: six>=1.5 in /opt/conda/lib/python3.7/site-packages (from python-dateutil>=2.7.3->pandas>=0.24.2->db-dtypes) (1.16.0)\n",
      "\u001b[33mWARNING: Ignoring invalid distribution -andas (/opt/conda/lib/python3.7/site-packages)\u001b[0m\u001b[33m\n",
      "\u001b[0m\u001b[33mWARNING: Ignoring invalid distribution -loudpickle (/opt/conda/lib/python3.7/site-packages)\u001b[0m\u001b[33m\n",
      "\u001b[0m\u001b[33mWARNING: Ignoring invalid distribution -oogle-cloud-aiplatform (/opt/conda/lib/python3.7/site-packages)\u001b[0m\u001b[33m\n",
      "\u001b[0m\u001b[33mWARNING: Ignoring invalid distribution -oogle-resumable-media (/opt/conda/lib/python3.7/site-packages)\u001b[0m\u001b[33m\n",
      "\u001b[0m"
     ]
    }
   ],
   "source": [
    "!pip3 install db-dtypes"
   ]
  },
  {
   "cell_type": "code",
   "execution_count": 16,
   "id": "11924cf8-a040-4ee5-85ae-788cba106b56",
   "metadata": {},
   "outputs": [
    {
     "data": {
      "text/html": [
       "<div>\n",
       "<style scoped>\n",
       "    .dataframe tbody tr th:only-of-type {\n",
       "        vertical-align: middle;\n",
       "    }\n",
       "\n",
       "    .dataframe tbody tr th {\n",
       "        vertical-align: top;\n",
       "    }\n",
       "\n",
       "    .dataframe thead th {\n",
       "        text-align: right;\n",
       "    }\n",
       "</style>\n",
       "<table border=\"1\" class=\"dataframe\">\n",
       "  <thead>\n",
       "    <tr style=\"text-align: right;\">\n",
       "      <th></th>\n",
       "      <th>Time</th>\n",
       "      <th>V1</th>\n",
       "      <th>V2</th>\n",
       "      <th>V3</th>\n",
       "      <th>V4</th>\n",
       "      <th>V5</th>\n",
       "      <th>V6</th>\n",
       "      <th>V7</th>\n",
       "      <th>V8</th>\n",
       "      <th>V9</th>\n",
       "      <th>...</th>\n",
       "      <th>V21</th>\n",
       "      <th>V22</th>\n",
       "      <th>V23</th>\n",
       "      <th>V24</th>\n",
       "      <th>V25</th>\n",
       "      <th>V26</th>\n",
       "      <th>V27</th>\n",
       "      <th>V28</th>\n",
       "      <th>Amount</th>\n",
       "      <th>Class</th>\n",
       "    </tr>\n",
       "  </thead>\n",
       "  <tbody>\n",
       "    <tr>\n",
       "      <th>0</th>\n",
       "      <td>8748</td>\n",
       "      <td>-1.070416</td>\n",
       "      <td>0.304517</td>\n",
       "      <td>2.777064</td>\n",
       "      <td>2.154061</td>\n",
       "      <td>0.254450</td>\n",
       "      <td>-0.448529</td>\n",
       "      <td>-0.398691</td>\n",
       "      <td>0.144672</td>\n",
       "      <td>1.070900</td>\n",
       "      <td>...</td>\n",
       "      <td>-0.122032</td>\n",
       "      <td>-0.182351</td>\n",
       "      <td>0.019576</td>\n",
       "      <td>0.626023</td>\n",
       "      <td>-0.018518</td>\n",
       "      <td>-0.263291</td>\n",
       "      <td>-0.198600</td>\n",
       "      <td>0.098435</td>\n",
       "      <td>0.00</td>\n",
       "      <td>0</td>\n",
       "    </tr>\n",
       "    <tr>\n",
       "      <th>1</th>\n",
       "      <td>27074</td>\n",
       "      <td>1.165628</td>\n",
       "      <td>0.423671</td>\n",
       "      <td>0.887635</td>\n",
       "      <td>2.740163</td>\n",
       "      <td>-0.338578</td>\n",
       "      <td>-0.142846</td>\n",
       "      <td>-0.055628</td>\n",
       "      <td>-0.015325</td>\n",
       "      <td>-0.213621</td>\n",
       "      <td>...</td>\n",
       "      <td>-0.081184</td>\n",
       "      <td>-0.025694</td>\n",
       "      <td>-0.076609</td>\n",
       "      <td>0.414687</td>\n",
       "      <td>0.631032</td>\n",
       "      <td>0.077322</td>\n",
       "      <td>0.010182</td>\n",
       "      <td>0.019912</td>\n",
       "      <td>0.00</td>\n",
       "      <td>0</td>\n",
       "    </tr>\n",
       "    <tr>\n",
       "      <th>2</th>\n",
       "      <td>28292</td>\n",
       "      <td>1.050879</td>\n",
       "      <td>0.053408</td>\n",
       "      <td>1.364590</td>\n",
       "      <td>2.666158</td>\n",
       "      <td>-0.378636</td>\n",
       "      <td>1.382032</td>\n",
       "      <td>-0.766202</td>\n",
       "      <td>0.486126</td>\n",
       "      <td>0.152611</td>\n",
       "      <td>...</td>\n",
       "      <td>0.083467</td>\n",
       "      <td>0.624424</td>\n",
       "      <td>-0.157228</td>\n",
       "      <td>-0.240411</td>\n",
       "      <td>0.573061</td>\n",
       "      <td>0.244090</td>\n",
       "      <td>0.063834</td>\n",
       "      <td>0.010981</td>\n",
       "      <td>0.00</td>\n",
       "      <td>0</td>\n",
       "    </tr>\n",
       "    <tr>\n",
       "      <th>3</th>\n",
       "      <td>28488</td>\n",
       "      <td>1.070316</td>\n",
       "      <td>0.079499</td>\n",
       "      <td>1.471856</td>\n",
       "      <td>2.863786</td>\n",
       "      <td>-0.637887</td>\n",
       "      <td>0.858159</td>\n",
       "      <td>-0.687478</td>\n",
       "      <td>0.344146</td>\n",
       "      <td>0.459561</td>\n",
       "      <td>...</td>\n",
       "      <td>0.048067</td>\n",
       "      <td>0.534713</td>\n",
       "      <td>-0.098645</td>\n",
       "      <td>0.129272</td>\n",
       "      <td>0.543737</td>\n",
       "      <td>0.242724</td>\n",
       "      <td>0.065070</td>\n",
       "      <td>0.023500</td>\n",
       "      <td>0.00</td>\n",
       "      <td>0</td>\n",
       "    </tr>\n",
       "    <tr>\n",
       "      <th>4</th>\n",
       "      <td>31392</td>\n",
       "      <td>-3.680953</td>\n",
       "      <td>-4.183581</td>\n",
       "      <td>2.642743</td>\n",
       "      <td>4.263802</td>\n",
       "      <td>4.643286</td>\n",
       "      <td>-0.225053</td>\n",
       "      <td>-3.733637</td>\n",
       "      <td>1.273037</td>\n",
       "      <td>0.015661</td>\n",
       "      <td>...</td>\n",
       "      <td>0.649051</td>\n",
       "      <td>1.054124</td>\n",
       "      <td>0.795528</td>\n",
       "      <td>-0.901314</td>\n",
       "      <td>-0.425524</td>\n",
       "      <td>0.511675</td>\n",
       "      <td>0.125419</td>\n",
       "      <td>0.243671</td>\n",
       "      <td>0.00</td>\n",
       "      <td>0</td>\n",
       "    </tr>\n",
       "    <tr>\n",
       "      <th>...</th>\n",
       "      <td>...</td>\n",
       "      <td>...</td>\n",
       "      <td>...</td>\n",
       "      <td>...</td>\n",
       "      <td>...</td>\n",
       "      <td>...</td>\n",
       "      <td>...</td>\n",
       "      <td>...</td>\n",
       "      <td>...</td>\n",
       "      <td>...</td>\n",
       "      <td>...</td>\n",
       "      <td>...</td>\n",
       "      <td>...</td>\n",
       "      <td>...</td>\n",
       "      <td>...</td>\n",
       "      <td>...</td>\n",
       "      <td>...</td>\n",
       "      <td>...</td>\n",
       "      <td>...</td>\n",
       "      <td>...</td>\n",
       "      <td>...</td>\n",
       "    </tr>\n",
       "    <tr>\n",
       "      <th>284802</th>\n",
       "      <td>154599</td>\n",
       "      <td>0.667714</td>\n",
       "      <td>3.041502</td>\n",
       "      <td>-5.845112</td>\n",
       "      <td>5.967587</td>\n",
       "      <td>0.213863</td>\n",
       "      <td>-1.462923</td>\n",
       "      <td>-2.688761</td>\n",
       "      <td>0.677764</td>\n",
       "      <td>-3.447596</td>\n",
       "      <td>...</td>\n",
       "      <td>0.329760</td>\n",
       "      <td>-0.941383</td>\n",
       "      <td>-0.006075</td>\n",
       "      <td>-0.958925</td>\n",
       "      <td>0.239298</td>\n",
       "      <td>-0.067356</td>\n",
       "      <td>0.821048</td>\n",
       "      <td>0.426175</td>\n",
       "      <td>6.74</td>\n",
       "      <td>1</td>\n",
       "    </tr>\n",
       "    <tr>\n",
       "      <th>284803</th>\n",
       "      <td>90676</td>\n",
       "      <td>-2.405580</td>\n",
       "      <td>3.738235</td>\n",
       "      <td>-2.317843</td>\n",
       "      <td>1.367442</td>\n",
       "      <td>0.394001</td>\n",
       "      <td>1.919938</td>\n",
       "      <td>-3.106942</td>\n",
       "      <td>-10.764403</td>\n",
       "      <td>3.353525</td>\n",
       "      <td>...</td>\n",
       "      <td>10.005998</td>\n",
       "      <td>-2.454964</td>\n",
       "      <td>1.684957</td>\n",
       "      <td>0.118263</td>\n",
       "      <td>-1.531380</td>\n",
       "      <td>-0.695308</td>\n",
       "      <td>-0.152502</td>\n",
       "      <td>-0.138866</td>\n",
       "      <td>6.99</td>\n",
       "      <td>1</td>\n",
       "    </tr>\n",
       "    <tr>\n",
       "      <th>284804</th>\n",
       "      <td>34634</td>\n",
       "      <td>0.333499</td>\n",
       "      <td>1.699873</td>\n",
       "      <td>-2.596561</td>\n",
       "      <td>3.643945</td>\n",
       "      <td>-0.585068</td>\n",
       "      <td>-0.654659</td>\n",
       "      <td>-2.275789</td>\n",
       "      <td>0.675229</td>\n",
       "      <td>-2.042416</td>\n",
       "      <td>...</td>\n",
       "      <td>0.469212</td>\n",
       "      <td>-0.144363</td>\n",
       "      <td>-0.317981</td>\n",
       "      <td>-0.769644</td>\n",
       "      <td>0.807855</td>\n",
       "      <td>0.228164</td>\n",
       "      <td>0.551002</td>\n",
       "      <td>0.305473</td>\n",
       "      <td>18.96</td>\n",
       "      <td>1</td>\n",
       "    </tr>\n",
       "    <tr>\n",
       "      <th>284805</th>\n",
       "      <td>96135</td>\n",
       "      <td>-1.952933</td>\n",
       "      <td>3.541385</td>\n",
       "      <td>-1.310561</td>\n",
       "      <td>5.955664</td>\n",
       "      <td>-1.003993</td>\n",
       "      <td>0.983049</td>\n",
       "      <td>-4.587235</td>\n",
       "      <td>-4.892184</td>\n",
       "      <td>-2.516752</td>\n",
       "      <td>...</td>\n",
       "      <td>-1.998091</td>\n",
       "      <td>1.133706</td>\n",
       "      <td>-0.041461</td>\n",
       "      <td>-0.215379</td>\n",
       "      <td>-0.865599</td>\n",
       "      <td>0.212545</td>\n",
       "      <td>0.532897</td>\n",
       "      <td>0.357892</td>\n",
       "      <td>18.96</td>\n",
       "      <td>1</td>\n",
       "    </tr>\n",
       "    <tr>\n",
       "      <th>284806</th>\n",
       "      <td>4462</td>\n",
       "      <td>-2.303350</td>\n",
       "      <td>1.759247</td>\n",
       "      <td>-0.359745</td>\n",
       "      <td>2.330243</td>\n",
       "      <td>-0.821628</td>\n",
       "      <td>-0.075788</td>\n",
       "      <td>0.562320</td>\n",
       "      <td>-0.399147</td>\n",
       "      <td>-0.238253</td>\n",
       "      <td>...</td>\n",
       "      <td>-0.294166</td>\n",
       "      <td>-0.932391</td>\n",
       "      <td>0.172726</td>\n",
       "      <td>-0.087330</td>\n",
       "      <td>-0.156114</td>\n",
       "      <td>-0.542628</td>\n",
       "      <td>0.039566</td>\n",
       "      <td>-0.153029</td>\n",
       "      <td>239.93</td>\n",
       "      <td>1</td>\n",
       "    </tr>\n",
       "  </tbody>\n",
       "</table>\n",
       "<p>284807 rows × 31 columns</p>\n",
       "</div>"
      ],
      "text/plain": [
       "          Time        V1        V2        V3        V4        V5        V6  \\\n",
       "0         8748 -1.070416  0.304517  2.777064  2.154061  0.254450 -0.448529   \n",
       "1        27074  1.165628  0.423671  0.887635  2.740163 -0.338578 -0.142846   \n",
       "2        28292  1.050879  0.053408  1.364590  2.666158 -0.378636  1.382032   \n",
       "3        28488  1.070316  0.079499  1.471856  2.863786 -0.637887  0.858159   \n",
       "4        31392 -3.680953 -4.183581  2.642743  4.263802  4.643286 -0.225053   \n",
       "...        ...       ...       ...       ...       ...       ...       ...   \n",
       "284802  154599  0.667714  3.041502 -5.845112  5.967587  0.213863 -1.462923   \n",
       "284803   90676 -2.405580  3.738235 -2.317843  1.367442  0.394001  1.919938   \n",
       "284804   34634  0.333499  1.699873 -2.596561  3.643945 -0.585068 -0.654659   \n",
       "284805   96135 -1.952933  3.541385 -1.310561  5.955664 -1.003993  0.983049   \n",
       "284806    4462 -2.303350  1.759247 -0.359745  2.330243 -0.821628 -0.075788   \n",
       "\n",
       "              V7         V8        V9  ...        V21       V22       V23  \\\n",
       "0      -0.398691   0.144672  1.070900  ...  -0.122032 -0.182351  0.019576   \n",
       "1      -0.055628  -0.015325 -0.213621  ...  -0.081184 -0.025694 -0.076609   \n",
       "2      -0.766202   0.486126  0.152611  ...   0.083467  0.624424 -0.157228   \n",
       "3      -0.687478   0.344146  0.459561  ...   0.048067  0.534713 -0.098645   \n",
       "4      -3.733637   1.273037  0.015661  ...   0.649051  1.054124  0.795528   \n",
       "...          ...        ...       ...  ...        ...       ...       ...   \n",
       "284802 -2.688761   0.677764 -3.447596  ...   0.329760 -0.941383 -0.006075   \n",
       "284803 -3.106942 -10.764403  3.353525  ...  10.005998 -2.454964  1.684957   \n",
       "284804 -2.275789   0.675229 -2.042416  ...   0.469212 -0.144363 -0.317981   \n",
       "284805 -4.587235  -4.892184 -2.516752  ...  -1.998091  1.133706 -0.041461   \n",
       "284806  0.562320  -0.399147 -0.238253  ...  -0.294166 -0.932391  0.172726   \n",
       "\n",
       "             V24       V25       V26       V27       V28  Amount  Class  \n",
       "0       0.626023 -0.018518 -0.263291 -0.198600  0.098435    0.00      0  \n",
       "1       0.414687  0.631032  0.077322  0.010182  0.019912    0.00      0  \n",
       "2      -0.240411  0.573061  0.244090  0.063834  0.010981    0.00      0  \n",
       "3       0.129272  0.543737  0.242724  0.065070  0.023500    0.00      0  \n",
       "4      -0.901314 -0.425524  0.511675  0.125419  0.243671    0.00      0  \n",
       "...          ...       ...       ...       ...       ...     ...    ...  \n",
       "284802 -0.958925  0.239298 -0.067356  0.821048  0.426175    6.74      1  \n",
       "284803  0.118263 -1.531380 -0.695308 -0.152502 -0.138866    6.99      1  \n",
       "284804 -0.769644  0.807855  0.228164  0.551002  0.305473   18.96      1  \n",
       "284805 -0.215379 -0.865599  0.212545  0.532897  0.357892   18.96      1  \n",
       "284806 -0.087330 -0.156114 -0.542628  0.039566 -0.153029  239.93      1  \n",
       "\n",
       "[284807 rows x 31 columns]"
      ]
     },
     "execution_count": 16,
     "metadata": {},
     "output_type": "execute_result"
    }
   ],
   "source": [
    "import db_dtypes\n",
    "query = f\"\"\"\n",
    "SELECT *\n",
    "FROM `{BQ_PROJECT}.{BQ_DATASET}.{BQ_TABLE}` TABLESAMPLE SYSTEM (1 PERCENT)\n",
    "#LIMIT 5\n",
    "\"\"\"\n",
    "bq.query(query = query).to_dataframe()"
   ]
  },
  {
   "cell_type": "markdown",
   "id": "e85ccdce-e6a9-4735-9997-e5ae77a6f86c",
   "metadata": {},
   "source": [
    "### Check out this table in BigQuery Console:\n",
    "- Click: https://console.cloud.google.com/bigquery\n",
    "- Make sure project selected is the one from this notebook\n",
    "- Under Explore, expand this project and review the dataset and table"
   ]
  },
  {
   "cell_type": "code",
   "execution_count": 17,
   "id": "d439a1dc-dfdd-4c82-8302-8dc1ffe44d28",
   "metadata": {},
   "outputs": [
    {
     "name": "stdout",
     "output_type": "stream",
     "text": [
      "Direct Link To This Project In BigQuery:\n",
      "https://console.cloud.google.com/bigquery?project=onboarding-host-5c79d5c5a45a40\n"
     ]
    }
   ],
   "source": [
    "print(f\"Direct Link To This Project In BigQuery:\\nhttps://console.cloud.google.com/bigquery?project={PROJECT_ID}\")"
   ]
  },
  {
   "cell_type": "markdown",
   "id": "2f133efb-8232-4b21-814f-23b815dc60f2",
   "metadata": {},
   "source": [
    "---\n",
    "## Review Data in BigQuery\n",
    "Additional SQL queries could be used to review the data.  This section shows moving the table to a Pandas dataframe for local review in Python:\n",
    "\n",
    "> **Note:** <p>This query only selects one column.  This means BigQuery scans less data as it does not process the other columns.  </p>"
   ]
  },
  {
   "cell_type": "code",
   "execution_count": 18,
   "id": "f4ebf6f5-a178-4011-9ab6-fa8329c578c9",
   "metadata": {},
   "outputs": [],
   "source": [
    "query = f\"\"\"\n",
    "SELECT Class\n",
    "FROM `{BQ_PROJECT}.{BQ_DATASET}.{BQ_TABLE}`\n",
    "\"\"\"\n",
    "df = bq.query(query = query).to_dataframe()"
   ]
  },
  {
   "cell_type": "code",
   "execution_count": 19,
   "id": "674f716e-8b9d-4c92-9b46-c166b869f6ae",
   "metadata": {},
   "outputs": [
    {
     "data": {
      "text/plain": [
       "0    284315\n",
       "1       492\n",
       "Name: Class, dtype: Int64"
      ]
     },
     "execution_count": 19,
     "metadata": {},
     "output_type": "execute_result"
    }
   ],
   "source": [
    "df['Class'].value_counts()"
   ]
  },
  {
   "cell_type": "code",
   "execution_count": 20,
   "id": "ba5d17e5-07c3-48fd-b682-aa471f3548f2",
   "metadata": {},
   "outputs": [
    {
     "data": {
      "text/plain": [
       "0    0.998273\n",
       "1    0.001727\n",
       "Name: Class, dtype: Float64"
      ]
     },
     "execution_count": 20,
     "metadata": {},
     "output_type": "execute_result"
    }
   ],
   "source": [
    "df['Class'].value_counts(normalize=True)"
   ]
  },
  {
   "cell_type": "markdown",
   "id": "35b34894",
   "metadata": {},
   "source": [
    "---\n",
    "## Prepare Data for Analysis"
   ]
  },
  {
   "cell_type": "markdown",
   "id": "4c982157",
   "metadata": {},
   "source": [
    "Create a prepped version of the data with test/train splits using SQL DDL:"
   ]
  },
  {
   "cell_type": "code",
   "execution_count": 21,
   "id": "a50becbb-60ab-45f9-acd5-9beb5b6755f0",
   "metadata": {},
   "outputs": [
    {
     "data": {
      "text/plain": [
       "<google.cloud.bigquery.table._EmptyRowIterator at 0x7fcfc0aad890>"
      ]
     },
     "execution_count": 21,
     "metadata": {},
     "output_type": "execute_result"
    }
   ],
   "source": [
    "query = f\"\"\"\n",
    "CREATE TABLE IF NOT EXISTS `{BQ_PROJECT}.{BQ_DATASET}.{BQ_TABLE}_prepped` AS\n",
    "WITH add_id AS(SELECT *, GENERATE_UUID() transaction_id FROM `{BQ_PROJECT}.{BQ_DATASET}.{BQ_TABLE}`)\n",
    "SELECT *,\n",
    "    CASE \n",
    "        WHEN MOD(ABS(FARM_FINGERPRINT(transaction_id)),10) < 8 THEN \"TRAIN\" \n",
    "        WHEN MOD(ABS(FARM_FINGERPRINT(transaction_id)),10) < 9 THEN \"VALIDATE\"\n",
    "        ELSE \"TEST\"\n",
    "    END AS splits\n",
    "FROM add_id\n",
    "\"\"\"\n",
    "job = bq.query(query = query)\n",
    "job.result()"
   ]
  },
  {
   "cell_type": "code",
   "execution_count": 22,
   "id": "77d6e2a9-ec35-477c-9d50-429326acc41d",
   "metadata": {},
   "outputs": [
    {
     "data": {
      "text/plain": [
       "6.173"
      ]
     },
     "execution_count": 22,
     "metadata": {},
     "output_type": "execute_result"
    }
   ],
   "source": [
    "(job.ended-job.started).total_seconds()"
   ]
  },
  {
   "cell_type": "code",
   "execution_count": 23,
   "id": "a991ff73-a545-4eed-a709-b8292efd89ca",
   "metadata": {},
   "outputs": [
    {
     "name": "stdout",
     "output_type": "stream",
     "text": [
      "70.632136 MB\n"
     ]
    }
   ],
   "source": [
    "if job.estimated_bytes_processed:\n",
    "    print(f'{job.estimated_bytes_processed/1000000} MB')"
   ]
  },
  {
   "cell_type": "markdown",
   "id": "372b2c41",
   "metadata": {},
   "source": [
    "Review the test/train split:"
   ]
  },
  {
   "cell_type": "code",
   "execution_count": 24,
   "id": "4a94adb9-81d7-4710-ac50-e0d93dd5523a",
   "metadata": {},
   "outputs": [
    {
     "data": {
      "text/html": [
       "<div>\n",
       "<style scoped>\n",
       "    .dataframe tbody tr th:only-of-type {\n",
       "        vertical-align: middle;\n",
       "    }\n",
       "\n",
       "    .dataframe tbody tr th {\n",
       "        vertical-align: top;\n",
       "    }\n",
       "\n",
       "    .dataframe thead th {\n",
       "        text-align: right;\n",
       "    }\n",
       "</style>\n",
       "<table border=\"1\" class=\"dataframe\">\n",
       "  <thead>\n",
       "    <tr style=\"text-align: right;\">\n",
       "      <th></th>\n",
       "      <th>splits</th>\n",
       "      <th>Count</th>\n",
       "      <th>Percentage</th>\n",
       "    </tr>\n",
       "  </thead>\n",
       "  <tbody>\n",
       "    <tr>\n",
       "      <th>0</th>\n",
       "      <td>TEST</td>\n",
       "      <td>28485</td>\n",
       "      <td>10.00151</td>\n",
       "    </tr>\n",
       "    <tr>\n",
       "      <th>1</th>\n",
       "      <td>TRAIN</td>\n",
       "      <td>228097</td>\n",
       "      <td>80.08827</td>\n",
       "    </tr>\n",
       "    <tr>\n",
       "      <th>2</th>\n",
       "      <td>VALIDATE</td>\n",
       "      <td>28225</td>\n",
       "      <td>9.91022</td>\n",
       "    </tr>\n",
       "  </tbody>\n",
       "</table>\n",
       "</div>"
      ],
      "text/plain": [
       "     splits   Count  Percentage\n",
       "0      TEST   28485    10.00151\n",
       "1     TRAIN  228097    80.08827\n",
       "2  VALIDATE   28225     9.91022"
      ]
     },
     "execution_count": 24,
     "metadata": {},
     "output_type": "execute_result"
    }
   ],
   "source": [
    "query = f\"\"\"\n",
    "SELECT splits, count(*) as Count, 100*count(*) / (sum(count(*)) OVER()) as Percentage\n",
    "FROM `{BQ_PROJECT}.{BQ_DATASET}.{BQ_TABLE}_prepped`\n",
    "GROUP BY splits\n",
    "\"\"\"\n",
    "bq.query(query = query).to_dataframe()"
   ]
  },
  {
   "cell_type": "markdown",
   "id": "3006ed11",
   "metadata": {},
   "source": [
    "Retrieve a subset of the data to a Pandas dataframe:"
   ]
  },
  {
   "cell_type": "code",
   "execution_count": 25,
   "id": "2ea70141-07db-46b0-a31e-0968befcd37b",
   "metadata": {},
   "outputs": [],
   "source": [
    "query = f\"\"\"\n",
    "SELECT * \n",
    "FROM `{BQ_PROJECT}.{BQ_DATASET}.{BQ_TABLE}_prepped`\n",
    "LIMIT 5\n",
    "\"\"\"\n",
    "data = bq.query(query = query).to_dataframe()"
   ]
  },
  {
   "cell_type": "code",
   "execution_count": 26,
   "id": "326d2b3d",
   "metadata": {},
   "outputs": [
    {
     "data": {
      "text/html": [
       "<div>\n",
       "<style scoped>\n",
       "    .dataframe tbody tr th:only-of-type {\n",
       "        vertical-align: middle;\n",
       "    }\n",
       "\n",
       "    .dataframe tbody tr th {\n",
       "        vertical-align: top;\n",
       "    }\n",
       "\n",
       "    .dataframe thead th {\n",
       "        text-align: right;\n",
       "    }\n",
       "</style>\n",
       "<table border=\"1\" class=\"dataframe\">\n",
       "  <thead>\n",
       "    <tr style=\"text-align: right;\">\n",
       "      <th></th>\n",
       "      <th>Time</th>\n",
       "      <th>V1</th>\n",
       "      <th>V2</th>\n",
       "      <th>V3</th>\n",
       "      <th>V4</th>\n",
       "      <th>V5</th>\n",
       "      <th>V6</th>\n",
       "      <th>V7</th>\n",
       "      <th>V8</th>\n",
       "      <th>V9</th>\n",
       "      <th>...</th>\n",
       "      <th>V23</th>\n",
       "      <th>V24</th>\n",
       "      <th>V25</th>\n",
       "      <th>V26</th>\n",
       "      <th>V27</th>\n",
       "      <th>V28</th>\n",
       "      <th>Amount</th>\n",
       "      <th>Class</th>\n",
       "      <th>transaction_id</th>\n",
       "      <th>splits</th>\n",
       "    </tr>\n",
       "  </thead>\n",
       "  <tbody>\n",
       "    <tr>\n",
       "      <th>0</th>\n",
       "      <td>113707</td>\n",
       "      <td>1.883641</td>\n",
       "      <td>0.390920</td>\n",
       "      <td>-0.125648</td>\n",
       "      <td>4.038069</td>\n",
       "      <td>0.084600</td>\n",
       "      <td>0.282469</td>\n",
       "      <td>-0.124244</td>\n",
       "      <td>-0.013172</td>\n",
       "      <td>-0.389203</td>\n",
       "      <td>...</td>\n",
       "      <td>0.076775</td>\n",
       "      <td>0.019631</td>\n",
       "      <td>0.120873</td>\n",
       "      <td>0.134686</td>\n",
       "      <td>0.006738</td>\n",
       "      <td>-0.045759</td>\n",
       "      <td>0.0</td>\n",
       "      <td>0</td>\n",
       "      <td>b709f320-2af6-4531-b2b3-1159222dc6e9</td>\n",
       "      <td>TEST</td>\n",
       "    </tr>\n",
       "    <tr>\n",
       "      <th>1</th>\n",
       "      <td>40811</td>\n",
       "      <td>-0.278140</td>\n",
       "      <td>0.340027</td>\n",
       "      <td>0.978907</td>\n",
       "      <td>0.481231</td>\n",
       "      <td>0.668480</td>\n",
       "      <td>0.078513</td>\n",
       "      <td>0.557259</td>\n",
       "      <td>-0.097339</td>\n",
       "      <td>-0.336347</td>\n",
       "      <td>...</td>\n",
       "      <td>0.006569</td>\n",
       "      <td>-0.263985</td>\n",
       "      <td>-0.112467</td>\n",
       "      <td>0.635217</td>\n",
       "      <td>-0.252823</td>\n",
       "      <td>-0.247246</td>\n",
       "      <td>0.0</td>\n",
       "      <td>0</td>\n",
       "      <td>27d65f26-bb85-4575-b7b8-0c7e4c3e2a00</td>\n",
       "      <td>TEST</td>\n",
       "    </tr>\n",
       "    <tr>\n",
       "      <th>2</th>\n",
       "      <td>151033</td>\n",
       "      <td>0.162210</td>\n",
       "      <td>0.761509</td>\n",
       "      <td>0.022739</td>\n",
       "      <td>-0.812837</td>\n",
       "      <td>0.642273</td>\n",
       "      <td>-1.240658</td>\n",
       "      <td>1.175337</td>\n",
       "      <td>-0.315150</td>\n",
       "      <td>-0.036143</td>\n",
       "      <td>...</td>\n",
       "      <td>-0.084828</td>\n",
       "      <td>-0.004986</td>\n",
       "      <td>-0.240305</td>\n",
       "      <td>-0.150329</td>\n",
       "      <td>0.028271</td>\n",
       "      <td>0.032105</td>\n",
       "      <td>0.0</td>\n",
       "      <td>0</td>\n",
       "      <td>9923b0dc-5c9c-4215-907c-d44db20179be</td>\n",
       "      <td>TEST</td>\n",
       "    </tr>\n",
       "    <tr>\n",
       "      <th>3</th>\n",
       "      <td>70594</td>\n",
       "      <td>-6.873266</td>\n",
       "      <td>-6.488383</td>\n",
       "      <td>0.565778</td>\n",
       "      <td>5.293881</td>\n",
       "      <td>4.432267</td>\n",
       "      <td>-3.532376</td>\n",
       "      <td>-4.068733</td>\n",
       "      <td>-0.170392</td>\n",
       "      <td>-0.213187</td>\n",
       "      <td>...</td>\n",
       "      <td>-2.703531</td>\n",
       "      <td>0.660517</td>\n",
       "      <td>-0.726914</td>\n",
       "      <td>0.119056</td>\n",
       "      <td>1.729701</td>\n",
       "      <td>-1.992187</td>\n",
       "      <td>0.0</td>\n",
       "      <td>0</td>\n",
       "      <td>9c696429-07e2-45d8-bc02-5efe04b90eab</td>\n",
       "      <td>TEST</td>\n",
       "    </tr>\n",
       "    <tr>\n",
       "      <th>4</th>\n",
       "      <td>149370</td>\n",
       "      <td>2.128564</td>\n",
       "      <td>0.263455</td>\n",
       "      <td>-2.433642</td>\n",
       "      <td>0.331570</td>\n",
       "      <td>0.972006</td>\n",
       "      <td>-1.310543</td>\n",
       "      <td>0.977674</td>\n",
       "      <td>-0.564233</td>\n",
       "      <td>-0.515611</td>\n",
       "      <td>...</td>\n",
       "      <td>-0.240987</td>\n",
       "      <td>-0.211359</td>\n",
       "      <td>0.723244</td>\n",
       "      <td>0.720894</td>\n",
       "      <td>-0.122079</td>\n",
       "      <td>-0.105187</td>\n",
       "      <td>0.0</td>\n",
       "      <td>0</td>\n",
       "      <td>1ada1c57-b12c-47c7-ab96-0ec70d792584</td>\n",
       "      <td>TEST</td>\n",
       "    </tr>\n",
       "  </tbody>\n",
       "</table>\n",
       "<p>5 rows × 33 columns</p>\n",
       "</div>"
      ],
      "text/plain": [
       "     Time        V1        V2        V3        V4        V5        V6  \\\n",
       "0  113707  1.883641  0.390920 -0.125648  4.038069  0.084600  0.282469   \n",
       "1   40811 -0.278140  0.340027  0.978907  0.481231  0.668480  0.078513   \n",
       "2  151033  0.162210  0.761509  0.022739 -0.812837  0.642273 -1.240658   \n",
       "3   70594 -6.873266 -6.488383  0.565778  5.293881  4.432267 -3.532376   \n",
       "4  149370  2.128564  0.263455 -2.433642  0.331570  0.972006 -1.310543   \n",
       "\n",
       "         V7        V8        V9  ...       V23       V24       V25       V26  \\\n",
       "0 -0.124244 -0.013172 -0.389203  ...  0.076775  0.019631  0.120873  0.134686   \n",
       "1  0.557259 -0.097339 -0.336347  ...  0.006569 -0.263985 -0.112467  0.635217   \n",
       "2  1.175337 -0.315150 -0.036143  ... -0.084828 -0.004986 -0.240305 -0.150329   \n",
       "3 -4.068733 -0.170392 -0.213187  ... -2.703531  0.660517 -0.726914  0.119056   \n",
       "4  0.977674 -0.564233 -0.515611  ... -0.240987 -0.211359  0.723244  0.720894   \n",
       "\n",
       "        V27       V28  Amount  Class                        transaction_id  \\\n",
       "0  0.006738 -0.045759     0.0      0  b709f320-2af6-4531-b2b3-1159222dc6e9   \n",
       "1 -0.252823 -0.247246     0.0      0  27d65f26-bb85-4575-b7b8-0c7e4c3e2a00   \n",
       "2  0.028271  0.032105     0.0      0  9923b0dc-5c9c-4215-907c-d44db20179be   \n",
       "3  1.729701 -1.992187     0.0      0  9c696429-07e2-45d8-bc02-5efe04b90eab   \n",
       "4 -0.122079 -0.105187     0.0      0  1ada1c57-b12c-47c7-ab96-0ec70d792584   \n",
       "\n",
       "   splits  \n",
       "0    TEST  \n",
       "1    TEST  \n",
       "2    TEST  \n",
       "3    TEST  \n",
       "4    TEST  \n",
       "\n",
       "[5 rows x 33 columns]"
      ]
     },
     "execution_count": 26,
     "metadata": {},
     "output_type": "execute_result"
    }
   ],
   "source": [
    "data.head()"
   ]
  },
  {
   "cell_type": "markdown",
   "id": "82d575d1",
   "metadata": {},
   "source": [
    "---\n",
    "## Remove Resources\n",
    "see notebook \"99 - Cleanup\""
   ]
  }
 ],
 "metadata": {
  "environment": {
   "kernel": "python3",
   "name": "tf2-gpu.2-3.m108",
   "type": "gcloud",
   "uri": "gcr.io/deeplearning-platform-release/tf2-gpu.2-3:m108"
  },
  "kernelspec": {
   "display_name": "Python 3 (ipykernel)",
   "language": "python",
   "name": "python3"
  },
  "language_info": {
   "codemirror_mode": {
    "name": "ipython",
    "version": 3
   },
   "file_extension": ".py",
   "mimetype": "text/x-python",
   "name": "python",
   "nbconvert_exporter": "python",
   "pygments_lexer": "ipython3",
   "version": "3.7.12"
  }
 },
 "nbformat": 4,
 "nbformat_minor": 5
}
